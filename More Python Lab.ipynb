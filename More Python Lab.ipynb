{
 "cells": [
  {
   "cell_type": "code",
   "execution_count": 53,
   "metadata": {},
   "outputs": [],
   "source": [
    "import numpy as np\n",
    "import matplotlib.pyplot as plt"
   ]
  },
  {
   "cell_type": "code",
   "execution_count": 55,
   "metadata": {},
   "outputs": [],
   "source": [
    "def rule4(Q, A, dA, a, B, dB, b, C, dC, c):\n",
    "    dQ =  Q * np.sqrt(((a*(dA/A))**2) + (b*(dB/B))**2+(c*(dC/C))**2)\n",
    "    return dQ"
   ]
  },
  {
   "cell_type": "code",
   "execution_count": 56,
   "metadata": {},
   "outputs": [],
   "source": [
    "L = 1.05\n",
    "deltaL = .001\n",
    "DeltaL = .00125\n",
    "deltaDeltaL = .00001\n",
    "Tinitial = 23.4\n",
    "Tfinal = 92.5\n",
    "deltaTinitial = .3\n",
    "deltaTfinal = .1"
   ]
  },
  {
   "cell_type": "code",
   "execution_count": 57,
   "metadata": {
    "scrolled": true
   },
   "outputs": [],
   "source": [
    "def rule3(dA, dB):\n",
    "    dQ = np.sqrt(dA**2+dB**2)\n",
    "    return dQ"
   ]
  },
  {
   "cell_type": "code",
   "execution_count": 58,
   "metadata": {},
   "outputs": [],
   "source": [
    "dT = rule3(.3, .1)"
   ]
  },
  {
   "cell_type": "code",
   "execution_count": 59,
   "metadata": {},
   "outputs": [],
   "source": [
    "a = DeltaL/(L * (Tfinal - Tinitial))"
   ]
  },
  {
   "cell_type": "code",
   "execution_count": 60,
   "metadata": {},
   "outputs": [
    {
     "name": "stdout",
     "output_type": "stream",
     "text": [
      "The Coefficient of Linear Expansion is 1.7228309558266145e-05 plus/minus 1.5962962826045274e-07\n"
     ]
    }
   ],
   "source": [
    "da = rule4( a, .00125, .00001, 1, 1.05, .001, 1, 69.1, dT, 1)\n",
    "print('The Coefficient of Linear Expansion is', a, 'plus/minus', da)"
   ]
  }
 ],
 "metadata": {
  "kernelspec": {
   "display_name": "Python 3",
   "language": "python",
   "name": "python3"
  },
  "language_info": {
   "codemirror_mode": {
    "name": "ipython",
    "version": 3
   },
   "file_extension": ".py",
   "mimetype": "text/x-python",
   "name": "python",
   "nbconvert_exporter": "python",
   "pygments_lexer": "ipython3",
   "version": "3.6.5"
  }
 },
 "nbformat": 4,
 "nbformat_minor": 2
}
